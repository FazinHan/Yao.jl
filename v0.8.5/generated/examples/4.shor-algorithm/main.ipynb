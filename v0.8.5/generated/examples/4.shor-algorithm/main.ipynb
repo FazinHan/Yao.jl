{
 "cells": [
  {
   "cell_type": "markdown",
   "source": [
    "# Shor's Algorithm"
   ],
   "metadata": {}
  },
  {
   "cell_type": "markdown",
   "source": [
    "## References\n",
    "* [Neilsen](https://aapt.scitation.org/doi/abs/10.1119/1.1463744?journalCode=ajp)\n",
    "* [An Insightful Blog](https://algassert.com/post/1718)"
   ],
   "metadata": {}
  },
  {
   "cell_type": "markdown",
   "source": [
    "The main program of a Shor's algorithm can be summrized in several lines of code.\n",
    "For the theory part, please refer the reference materials above.\n",
    "It factorize an integer `L`, and returns one of the factors."
   ],
   "metadata": {}
  },
  {
   "outputs": [],
   "cell_type": "code",
   "source": [
    "using Yao, BitBasis\n",
    "using Yao.EasyBuild: qft_circuit"
   ],
   "metadata": {},
   "execution_count": null
  },
  {
   "cell_type": "markdown",
   "source": [
    "## Number theory basic\n",
    "Before entering the main program, let us defined some useful functions in number theory."
   ],
   "metadata": {}
  },
  {
   "outputs": [],
   "cell_type": "code",
   "source": [
    "module NumberTheory\n",
    "\n",
    "export Z_star, Eulerφ, continued_fraction, mod_inverse, rand_primeto, factor_a_power_b\n",
    "export is_order, order_from_float, find_order\n",
    "\n",
    "\"\"\"\n",
    "    Z_star(N::Int) -> Vector\n",
    "\n",
    "returns the Z* group elements of `N`, i.e. {x | gcd(x, N) == 1}\n",
    "\"\"\"\n",
    "Z_star(N::Int) = filter(i->gcd(i, N)==1, 0:N-1)\n",
    "Eulerφ(N) = length(Z_star(N))\n",
    "\n",
    "\"\"\"\n",
    "    continued_fraction(ϕ, niter::Int) -> Rational\n",
    "\n",
    "obtain `s` and `r` from `ϕ` that satisfies `|s/r - ϕ| ≦ 1/2r²`\n",
    "\"\"\"\n",
    "continued_fraction(ϕ, niter::Int) = niter==0 || isinteger(ϕ) ? floor(Int, ϕ) : floor(Int, ϕ) + 1//continued_fraction(1/mod(ϕ, 1), niter-1)\n",
    "continued_fraction(ϕ::Rational, niter::Int) = niter==0 || ϕ.den==1 ? floor(Int, ϕ) : floor(Int, ϕ) + 1//continued_fraction(1/mod(ϕ, 1), niter-1)\n",
    "\n",
    "\"\"\"\n",
    "    mod_inverse(x::Int, N::Int) -> Int\n",
    "\n",
    "Return `y` that `(x*y)%N == 1`, notice the `(x*y)%N` operations in Z* forms a group and this is the definition of inverse.\n",
    "\"\"\"\n",
    "function mod_inverse(x::Int, N::Int)\n",
    "    for i=1:N\n",
    "        (x*i)%N == 1 && return i\n",
    "    end\n",
    "    throw(ArgumentError(\"Can not find the inverse, $x is probably not in Z*($N)!\"))\n",
    "end\n",
    "\n",
    "\"\"\"\n",
    "    is_order(r, x, N) -> Bool\n",
    "\n",
    "Returns true if `r` is the order of `x`, i.e. `r` satisfies `x^r % N == 1`.\n",
    "\"\"\"\n",
    "is_order(r, x, N) = powermod(x, r, N) == 1\n",
    "\n",
    "\"\"\"\n",
    "    find_order(x::Int, N::Int) -> Int\n",
    "\n",
    "Find the order of `x` by brute force search.\n",
    "\"\"\"\n",
    "function find_order(x::Int, N::Int)\n",
    "    findfirst(r->is_order(r, x, N), 1:N)\n",
    "end\n",
    "\n",
    "\"\"\"\n",
    "    rand_primeto(N::Int) -> Int\n",
    "\n",
    "Returns a random number `2 ≦ x < N` that is prime to `N`.\n",
    "\"\"\"\n",
    "function rand_primeto(N::Int)\n",
    "    while true\n",
    "        x = rand(2:N-1)\n",
    "        d = gcd(x, N)\n",
    "        if d == 1\n",
    "            return x\n",
    "        end\n",
    "    end\n",
    "end\n",
    "\n",
    "\"\"\"\n",
    "    order_from_float(ϕ, x, L) -> Int\n",
    "\n",
    "Estimate the order of `x` to `L`, `r`, from a floating point number `ϕ ∼ s/r` using the continued fraction method.\n",
    "\"\"\"\n",
    "function order_from_float(ϕ, x, L)\n",
    "    k = 1\n",
    "    rnum = continued_fraction(ϕ, k)\n",
    "    while rnum.den < L && k < 100\n",
    "        r = rnum.den\n",
    "        if is_order(r, x, L)\n",
    "            return r\n",
    "        end\n",
    "        k += 1\n",
    "        rnum = continued_fraction(ϕ, k)\n",
    "    end\n",
    "    return nothing\n",
    "end\n",
    "\n",
    "\"\"\"\n",
    "    factor_a_power_b(N::Int) -> (Int, Int) or nothing\n",
    "\n",
    "Factorize `N` into the power form `a^b`.\n",
    "\"\"\"\n",
    "function factor_a_power_b(N::Int)\n",
    "    y = log2(N)\n",
    "    for b = 2:ceil(Int, y)\n",
    "        x = 2^(y/b)\n",
    "        u1 = floor(Int, x)\n",
    "        u1^b == N && return (u1, b)\n",
    "        (u1+1)^b == N && return (u1+1, b)\n",
    "    end\n",
    "end\n",
    "\n",
    "end"
   ],
   "metadata": {},
   "execution_count": null
  },
  {
   "cell_type": "markdown",
   "source": [
    "## A quantum function to compute `mod`\n",
    "Before introducing the main program, let us customize a block for computing the classical function `mod`.\n",
    "In a more practical setup, it should be compiled to basic quantum gates. Here we just hack this function for simplicity."
   ],
   "metadata": {}
  },
  {
   "outputs": [],
   "cell_type": "code",
   "source": [
    "\"\"\"\n",
    "    KMod <: PrimitiveBlock{2}\n",
    "\n",
    "The first `k` qubits are exponent, and the rest `n-k` are base `a`,\n",
    "it calculates `mod(a^k*x, L)`, notice `gcd(a, L)` should be 1.\n",
    "\"\"\"\n",
    "struct KMod <: PrimitiveBlock{2}\n",
    "    n::Int\n",
    "    k::Int\n",
    "    a::Int\n",
    "    L::Int\n",
    "    function KMod(n, k, a, L)\n",
    "        @assert gcd(a, L) == 1 && L<=1<<(n-k)\n",
    "        new(n, k, a, L)\n",
    "    end\n",
    "end\n",
    "\n",
    "Yao.nqudits(m::KMod) = m.n\n",
    "\n",
    "function bint2_reader(T, k::Int)\n",
    "    mask = bmask(T, 1:k)\n",
    "    return b -> (b&mask, b>>k)\n",
    "end\n",
    "\n",
    "function Yao.unsafe_apply!(reg::AbstractArrayReg, m::KMod)\n",
    "    nstate = zero(reg.state)\n",
    "\n",
    "    reader = bint2_reader(Int, m.k)\n",
    "    for b in 0:1<<m.n-1\n",
    "        k, i = reader(b)\n",
    "        _i = i >= m.L ? i : mod(i*powermod(m.a, k, m.L), m.L)\n",
    "        _b = k + _i<<m.k + 1\n",
    "        for j in 1:size(nstate,2)\n",
    "            @inbounds nstate[_b,j] = reg.state[b+1,j]\n",
    "        end\n",
    "    end\n",
    "    reg.state .= nstate\n",
    "    reg\n",
    "end\n",
    "\n",
    "function Yao.mat(::Type{T}, m::KMod) where {T}\n",
    "    perm = Vector{Int}(undef, 1<<m.n)\n",
    "    reader = bint2_reader(Int, m.k)\n",
    "    for b in 0:1<<m.n-1\n",
    "        k, i = reader(b)\n",
    "        _i = i >= m.L ? i : mod(i*powermod(m.a, k, m.L), m.L)\n",
    "        _b = k + _i<<m.k + 1\n",
    "        @inbounds perm[_b] = b+1\n",
    "    end\n",
    "    YaoBlocks.LuxurySparse.PermMatrix(perm, ones(T, 1<<m.n))\n",
    "end\n",
    "\n",
    "Base.adjoint(m::KMod) = KMod(m.n, m.k, mod_inverse(m.a, m.L), m.L)\n",
    "Yao.print_block(io::IO, m::KMod) = print(io, \"Mod: $(m.a)^k*x % $(m.L) (nqubits = $(nqudits(m)), number of control bits = $(m.k))\")"
   ],
   "metadata": {},
   "execution_count": null
  },
  {
   "cell_type": "markdown",
   "source": [
    "## Main Program\n",
    "Here, the input `ver` can be either `Val(:quantum)` or `Val(:classical)`,\n",
    "where the classical version is for comparison."
   ],
   "metadata": {}
  },
  {
   "outputs": [],
   "cell_type": "code",
   "source": [
    "using .NumberTheory\n",
    "\n",
    "function shor(L::Int, ver=Val(:quantum); maxtry=100)\n",
    "    L%2 == 0 && return 2\n",
    "\n",
    "    # find short cut solutions like `a^b`\n",
    "    res = NumberTheory.factor_a_power_b(L)\n",
    "    res !== nothing && return res[1]\n",
    "\n",
    "    for _ = 1:maxtry\n",
    "        # step 1\n",
    "        x = NumberTheory.rand_primeto(L)\n",
    "\n",
    "        # step 2\n",
    "        r = get_order(ver, x, L; )\n",
    "        if r%2 == 0 && powermod(x, r÷2, L) != L-1\n",
    "            # step 3\n",
    "            f1, f2 = gcd(powermod(x, r÷2, L)-1, L), gcd(powermod(x, r÷2, L)+1, L)\n",
    "            if f1!=1\n",
    "                return f1\n",
    "            elseif f2!=1\n",
    "                return f2\n",
    "            else\n",
    "                error(\"Algorithm Fail!\")\n",
    "            end\n",
    "        end\n",
    "    end\n",
    "end"
   ],
   "metadata": {},
   "execution_count": null
  },
  {
   "cell_type": "markdown",
   "source": [
    "Except some shortcuts, in each try, the main program can be summarized in several steps\n",
    "1. randomly pick a number that prime to the input numebr `L`, i.e. `gcd(x, L) = 1`.\n",
    "The complexity of this algorithm is polynomial.\n",
    "2. get the order `x`, i.e. finding a number `r` that satisfies `mod(x^r, L) = 1`.\n",
    "If `r` is even and `x^(r÷2)` is non-trivial, go on, otherwise start another try.\n",
    "Here, trivial means equal to `L-1 (mod L)`.\n",
    "3. According to Theorem 5.2 in Neilsen book,\n",
    "one of `gcd(x^(r÷2)-1, L)` and `gcd(x^(r÷2)+1, L)` must be a non-trivial (`!=1`) factor of `L`.\n",
    "Notice `powermod(x, r÷2, L)` must be `-1` rather than `1`,\n",
    "otherwise the order should be `r/2` according to definition."
   ],
   "metadata": {}
  },
  {
   "cell_type": "markdown",
   "source": [
    "The only difference between classical and quantum version is the order finding algorithm."
   ],
   "metadata": {}
  },
  {
   "cell_type": "markdown",
   "source": [
    "## Order Finding\n",
    "We provided a classical order finding algorithm in `NumberTheory`,\n",
    "here we focus on the quantum version.\n",
    "The algorithm is consisted\n",
    "1. run the circuit to get a bitstring,\n",
    "2. interpret this bitstring in output register as a rational number `s/r`.\n",
    "To achieve this, we first interpret it as a floating point number,\n",
    "then the continued fraction algorithm can find the best match for us.\n",
    "\n",
    "When using the quantum version, we have the flexibility to set key word arguments `nshot`,\n",
    "`nbit` (size of input data register) and `ncbit` (size of control register, or output register).\n",
    "`nbit` can be simply chosen as the minimum register size to store input,\n",
    "while `ncbit` can be estimated with the following function"
   ],
   "metadata": {}
  },
  {
   "outputs": [],
   "cell_type": "code",
   "source": [
    "\"\"\"estimate the required size of the output register.\"\"\"\n",
    "estimate_ncbit(nbit::Int, ϵ::Real) = 2*nbit + 1 + ceil(Int,log2(2+1/2ϵ))\n",
    "\n",
    "get_order(::Val{:classical}, x::Int, L::Int; kwargs...) = NumberTheory.find_order(x, L)\n",
    "function get_order(::Val{:quantum}, x::Int, L::Int; nshots::Int=10,\n",
    "            nbit::Int=bit_length(L-1), ncbit::Int=estimate_ncbit(nbit, 0.25))\n",
    "    c = order_finding_circuit(x, L; nbit=nbit, ncbit=ncbit)\n",
    "    reg = join(product_state(nbit, 1), zero_state(ncbit))\n",
    "\n",
    "    res = measure(copy(reg) |> c; nshots=nshots)\n",
    "    for r in res\n",
    "        # split bit string b into lower bits `k` and higher bits `r`.\n",
    "        mask = bmask(1:ncbit)\n",
    "        k,i = r&mask, r>>ncbit\n",
    "        # get s/r\n",
    "        ϕ = bfloat(k)  #\n",
    "        ϕ == 0 && continue\n",
    "\n",
    "        # order_from_float: given a floating point number,\n",
    "        # return the closest rational number with bounded number of continued fraction steps.\n",
    "        order = NumberTheory.order_from_float(ϕ, x, L)\n",
    "        if order === nothing\n",
    "            continue\n",
    "        else\n",
    "            return order\n",
    "        end\n",
    "    end\n",
    "    return nothing\n",
    "end"
   ],
   "metadata": {},
   "execution_count": null
  },
  {
   "cell_type": "markdown",
   "source": [
    "#### The circuit used for finding order"
   ],
   "metadata": {}
  },
  {
   "outputs": [],
   "cell_type": "code",
   "source": [
    "\"\"\"\n",
    "    order_finding_circuit(x::Int, L::Int; nbit::Int=bit_length(L-1), ncbit::Int=estimate_ncbit(nbit, 0.25)) -> AbstractBlock\n",
    "\n",
    "Returns the circuit for finding the order of `x` to `L`,\n",
    "feeding input `|1>⊗|0>` will get the resulting quantum register with the desired \"phase\" information.\n",
    "\"\"\"\n",
    "function order_finding_circuit(x::Int, L::Int; nbit::Int, ncbit::Int)\n",
    "    N = nbit+ncbit\n",
    "    chain(N, repeat(N, H, 1:ncbit), KMod(N, ncbit, x, L),\n",
    "        subroutine(N, qft_circuit(ncbit)', 1:ncbit))\n",
    "end"
   ],
   "metadata": {},
   "execution_count": null
  },
  {
   "cell_type": "markdown",
   "source": [
    "The circuit for order finding is consisted of three parts\n",
    "1. Hadamard gates,\n",
    "2. `KMod` that computes a classical function `mod(a^k*x, L)`.\n",
    "`k` is the integer stored in first `K` (or `ncbit`) qubits and the rest `N-K` qubits stores `a`.\n",
    "Notice it is not a basic gate, it should have been compiled to multiple gates, which is not implemented in `Yao` for the moment.\n",
    "To learn more about implementing arithmatics on a quantum circuit, please read [this paper](https://arxiv.org/abs/1805.12445).\n",
    "3. Inverse quantum fourier transformation."
   ],
   "metadata": {}
  },
  {
   "cell_type": "markdown",
   "source": [
    "## Run\n",
    "Factorizing `15`, you should see `3` or `5`, please report a bug if it is not..."
   ],
   "metadata": {}
  },
  {
   "outputs": [],
   "cell_type": "code",
   "source": [
    "shor(15, Val(:quantum))"
   ],
   "metadata": {},
   "execution_count": null
  },
  {
   "cell_type": "markdown",
   "source": [
    "---\n",
    "\n",
    "*This notebook was generated using [Literate.jl](https://github.com/fredrikekre/Literate.jl).*"
   ],
   "metadata": {}
  }
 ],
 "nbformat_minor": 3,
 "metadata": {
  "language_info": {
   "file_extension": ".jl",
   "mimetype": "application/julia",
   "name": "julia",
   "version": "1.8.2"
  },
  "kernelspec": {
   "name": "julia-1.8",
   "display_name": "Julia 1.8.2",
   "language": "julia"
  }
 },
 "nbformat": 4
}
