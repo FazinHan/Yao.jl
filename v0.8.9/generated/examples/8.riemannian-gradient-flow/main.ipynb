{
 "cells": [
  {
   "cell_type": "markdown",
   "source": [
    "# Riemannian gradient flow optimizer"
   ],
   "metadata": {}
  },
  {
   "cell_type": "markdown",
   "source": [
    "In this tutorial we will present the Riemannian gradient descent algorithm described in [Miao and Barthel (2021)](https://arxiv.org/pdf/2108.13401.pdf)\n",
    "and [Wiersema and Killoran (2022)](https://arxiv.org/pdf/2202.06976.pdf)\n",
    "As opposed to most standard optimization algorithms that optimize parameters of variational quantum circuits,\n",
    "this algorithm optimizes a function directly over the special unitary group by following the gradient flow over the manifold.\n",
    "Let's start by importing the necessary packages."
   ],
   "metadata": {}
  },
  {
   "outputs": [],
   "cell_type": "code",
   "source": [
    "using Yao, Yao.EasyBuild, Plots, Random\n",
    "using KrylovKit: eigsolve"
   ],
   "metadata": {},
   "execution_count": null
  },
  {
   "cell_type": "markdown",
   "source": [
    "Variational quantum eigensolver (VQE) is one of the most celebrated near-term quantum algorithms.\n",
    "In the usual setting, VQE tries to reach the ground state by minimizing the energy cost function\n",
    "$$\n",
    "\\mathcal{L}(\\theta) = \\text{Tr}\\{HU(\\theta)\\rho_0U^\\dagger(\\theta)\\},\n",
    "$$\n",
    "with respect to parameters $\\theta$ which parameterize a quantum circuit $U(\\theta)$,\n",
    "where $\\rho_0 = |\\psi_0\\rangle\\langle\\psi_0|$ is some initial state and $H$ the Hamiltonian whose ground state we want to approximate.\n",
    "We can solve the optimization problem $\\text{min}_\\theta\\mathcal{L}(\\theta)$ by following\n",
    "the direction of the steepest descent in parameter space which is given by the gradient of the cost function,\n",
    "i.e. by considering the following gradient flow\n",
    "$$\n",
    "\\dot{\\theta} = -\\text{grad}\\mathcal{L}(\\theta).\n",
    "$$\n",
    "Discretizing the equation above, we recover the well-known gradient descent algorithm\n",
    "$$\n",
    "\\theta_{k + 1} = \\theta_k - \\alpha\\text{grad}\\mathcal{L}(\\theta),\n",
    "$$\n",
    "where $\\alpha$ is the learning rate.\n",
    "Let's demonstrate it on the example of finding the ground state of the transverse field Ising model."
   ],
   "metadata": {}
  },
  {
   "outputs": [],
   "cell_type": "code",
   "source": [
    "n = 8\n",
    "h = transverse_ising(n, 1.0)\n",
    "w, v = eigsolve(mat(h), 1, :SR, ishermitian=true)\n",
    "\n",
    "Random.seed!(0)\n",
    "circuit = dispatch!(variational_circuit(n, 100), :random);\n",
    "history = Float64[]\n",
    "for i in 1:100\n",
    "    _, grad = expect'(h, zero_state(n) => circuit)\n",
    "    dispatch!(-, circuit, 0.01 * grad)\n",
    "    push!(history, real.(expect(h, zero_state(n)=>circuit)))\n",
    "end\n",
    "\n",
    "plot(history, legend=false)\n",
    "plot!(1:100, [w[1] for i=1:100])\n",
    "xlabel!(\"steps\")\n",
    "ylabel!(\"energy\")"
   ],
   "metadata": {},
   "execution_count": null
  },
  {
   "cell_type": "markdown",
   "source": [
    "Let's now consider the energy cost function directly over the special unitary group $\\mathcal{L}: \\text{SU}(2^n) \\rightarrow \\mathbb{R}$\n",
    "$$\n",
    "\\mathcal{L}(U) = \\text{Tr}\\{HU\\rho_0U^\\dagger\\}.\n",
    "$$\n",
    "To minimize the cost function we can follow the Riemannian gradient flow defined through the following differential equation\n",
    "$$\n",
    "\\dot{U} = -\\text{grad}\\mathcal{L}(U) = [U\\rho_0U^\\dagger, H]U.\n",
    "$$\n",
    "Discretizing the flow we get the following recursive update rule\n",
    "$$\n",
    "U_{k + 1} = \\exp\\{\\alpha[U_k\\rho_0U^\\dagger_k, H]\\}U_k = \\exp\\{\\alpha[\\rho_k, H]\\}U_k,\n",
    "$$\n",
    "where $\\alpha$ is the appropriate learning rate and $U_0 = I$."
   ],
   "metadata": {}
  },
  {
   "cell_type": "markdown",
   "source": [
    "We can expand the commutator in the exponent in the basis of Pauli strings $P^j$\n",
    "$$\n",
    "[\\rho_k, H] = \\frac{1}{2^n}\\sum_{j = 1}^{4^n - 1}\\omega^j_kP^j,\n",
    "$$\n",
    "where\n",
    "$$\n",
    "\\omega^j_k = \\text{Tr}\\{[\\rho_k, H]P^j\\} = \\text{Tr}\\{[H, P^j]\\rho_k\\} = \\langle[H, P^j]\\rangle_{\\rho_k}.\n",
    "$$\n",
    "It turns out that $\\omega^j_k$ can easily be evaluated with the help of a parameter shift rule\n",
    "$$\n",
    "\\omega^j_k = \\langle[H, P^j]\\rangle_{\\rho_k} = -i\\langle V^\\dagger_j(\\pi/4)HV_j(\\pi/4) - V^\\dagger_j(-\\pi/4)HV_j(-\\pi/4)\\rangle_{\\rho_k},\n",
    "$$\n",
    "where $V_j(t) = \\exp\\{-itP^j\\}$."
   ],
   "metadata": {}
  },
  {
   "cell_type": "markdown",
   "source": [
    "Next, we write a function for generation of 2-local Pauli operators.\n",
    "We will restrict the Riemannian gradient to this subspace of the Lie algebra since otherwise the number\n",
    "of parameters to calculate would be $4^8 - 1 = 65535$ which is too much for a reasonable runtime of the algorithm."
   ],
   "metadata": {}
  },
  {
   "outputs": [],
   "cell_type": "code",
   "source": [
    "function generate_2local_pauli_strings(n)\n",
    "    pauli_strings = []\n",
    "    for i = 1:n\n",
    "        push!(pauli_strings, kron(n, i => X))\n",
    "        push!(pauli_strings, kron(n, i => Y))\n",
    "        push!(pauli_strings, kron(n, i => Z))\n",
    "    end\n",
    "    for i = 1:n-1\n",
    "        for j = i+1:n\n",
    "            for P1 in [X, Y, Z]\n",
    "                for P2 in [X, Y, Z]\n",
    "                    push!(pauli_strings, kron(n, i => P1, j => P2))\n",
    "                end\n",
    "            end\n",
    "        end\n",
    "    end\n",
    "    pauli_strings\n",
    "end;"
   ],
   "metadata": {},
   "execution_count": null
  },
  {
   "cell_type": "markdown",
   "source": [
    "Next we write functions for calculating the expansion coefficients and a single optimization step.\n",
    "We will absorb the factor of $1/2^n$ into the learning rate."
   ],
   "metadata": {}
  },
  {
   "outputs": [],
   "cell_type": "code",
   "source": [
    "function calculate_omegas(n, reg, h, pauli_strings)\n",
    "    iω = []\n",
    "    for P in pauli_strings\n",
    "        push!(iω, real(expect(h, reg => time_evolve(P, π/4)) - expect(h, reg => time_evolve(P, -π/4))))\n",
    "    end\n",
    "    iω\n",
    "end;\n",
    "\n",
    "function step_and_cost!(n, circuit, h, α, pauli_strings)\n",
    "    iω = calculate_omegas(n, zero_state(n) |> circuit, h, pauli_strings)\n",
    "\n",
    "    for (iωʲ, P) in zip(iω, pauli_strings)\n",
    "        if abs(iωʲ) > 1e-6 # we will only keep the ones that actually contribute\n",
    "            append!(circuit, chain(n, time_evolve(P, -α * iωʲ)))\n",
    "        end\n",
    "    end\n",
    "\n",
    "    real(expect(h, zero_state(n) => circuit))\n",
    "end;"
   ],
   "metadata": {},
   "execution_count": null
  },
  {
   "cell_type": "markdown",
   "source": [
    "Finally, let's try it out.\n",
    "We initialize the state $|0\\rangle$ and apply several optimization steps."
   ],
   "metadata": {}
  },
  {
   "outputs": [],
   "cell_type": "code",
   "source": [
    "circuit = chain(n)\n",
    "pauli_strings = generate_2local_pauli_strings(n)\n",
    "history = Float64[]\n",
    "\n",
    "for i=1:100\n",
    "    cost = step_and_cost!(n, circuit, h, 0.01, pauli_strings)\n",
    "    push!(history, cost)\n",
    "end\n",
    "\n",
    "plot(history, legend=false)\n",
    "plot!(1:100, [w[1] for i=1:100])\n",
    "xlabel!(\"steps\")\n",
    "ylabel!(\"energy\")"
   ],
   "metadata": {},
   "execution_count": null
  },
  {
   "cell_type": "markdown",
   "source": [
    "When we compare the final states achieved with the Riemannian gradient flow\n",
    "optimizer and with the standard VQE we can notice that the former has lower quality.\n",
    "This is because the Riemannian gradient flow optimizer has only a local view of the cost landscape\n",
    "while VQE can access these directions since the ansatz we used is universal.\n",
    "However, if we were able to calculate all of the $4^n - 1$ projections,\n",
    "Riemannian gradient flow optimizer would be guaranteed to converge given the appropriate learning rate!"
   ],
   "metadata": {}
  },
  {
   "cell_type": "markdown",
   "source": [
    "---\n",
    "\n",
    "*This notebook was generated using [Literate.jl](https://github.com/fredrikekre/Literate.jl).*"
   ],
   "metadata": {}
  }
 ],
 "nbformat_minor": 3,
 "metadata": {
  "language_info": {
   "file_extension": ".jl",
   "mimetype": "application/julia",
   "name": "julia",
   "version": "1.8.5"
  },
  "kernelspec": {
   "name": "julia-1.8",
   "display_name": "Julia 1.8.5",
   "language": "julia"
  }
 },
 "nbformat": 4
}
