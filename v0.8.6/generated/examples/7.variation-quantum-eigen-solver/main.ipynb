{
 "cells": [
  {
   "cell_type": "markdown",
   "source": [
    "# Variational Quantum Eigen Solver"
   ],
   "metadata": {}
  },
  {
   "outputs": [],
   "cell_type": "code",
   "source": [
    "using Yao, Yao.AD, Yao.EasyBuild"
   ],
   "metadata": {},
   "execution_count": null
  },
  {
   "cell_type": "markdown",
   "source": [
    "number of qubits"
   ],
   "metadata": {}
  },
  {
   "outputs": [],
   "cell_type": "code",
   "source": [
    "n = 4"
   ],
   "metadata": {},
   "execution_count": null
  },
  {
   "cell_type": "markdown",
   "source": [
    "depth"
   ],
   "metadata": {}
  },
  {
   "outputs": [],
   "cell_type": "code",
   "source": [
    "d = 5\n",
    "circuit = dispatch!(variational_circuit(n, d),:random)\n",
    "\n",
    "gatecount(circuit)\n",
    "\n",
    "nparameters(circuit)\n",
    "\n",
    "h = heisenberg(n)"
   ],
   "metadata": {},
   "execution_count": null
  },
  {
   "cell_type": "markdown",
   "source": [
    "pick the one you like\n",
    "either reverse-mode\n",
    "or forward mode\n",
    "grad = faithful_grad(h, zero_state(n) => circuit; nshots=100)"
   ],
   "metadata": {}
  },
  {
   "outputs": [],
   "cell_type": "code",
   "source": [
    "for i in 1:1000\n",
    "      _, grad = expect'(h, zero_state(n) => circuit)\n",
    "      dispatch!(-, circuit, 1e-2 * grad)\n",
    "      println(\"Step $i, energy = $(real.(expect(h, zero_state(n)=>circuit)))\")\n",
    "end\n",
    "\n",
    "using LinearAlgebra\n",
    "w, _ = eigen(Matrix(mat(h)))"
   ],
   "metadata": {},
   "execution_count": null
  },
  {
   "cell_type": "markdown",
   "source": [
    "---\n",
    "\n",
    "*This notebook was generated using [Literate.jl](https://github.com/fredrikekre/Literate.jl).*"
   ],
   "metadata": {}
  }
 ],
 "nbformat_minor": 3,
 "metadata": {
  "language_info": {
   "file_extension": ".jl",
   "mimetype": "application/julia",
   "name": "julia",
   "version": "1.8.3"
  },
  "kernelspec": {
   "name": "julia-1.8",
   "display_name": "Julia 1.8.3",
   "language": "julia"
  }
 },
 "nbformat": 4
}
