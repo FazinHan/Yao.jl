{
 "cells": [
  {
   "cell_type": "markdown",
   "source": [
    "# Quantum Fourier Transformation and Phase Estimation"
   ],
   "metadata": {}
  },
  {
   "cell_type": "markdown",
   "source": [
    "Let's use Yao first"
   ],
   "metadata": {}
  },
  {
   "outputs": [],
   "cell_type": "code",
   "source": [
    "using Yao"
   ],
   "metadata": {},
   "execution_count": null
  },
  {
   "cell_type": "markdown",
   "source": [
    "## Quantum Fourier Transformation"
   ],
   "metadata": {}
  },
  {
   "cell_type": "markdown",
   "source": [
    "The Quantum Fourier Transformation (QFT) circuit is to repeat\n",
    "two kinds of blocks repeatly:"
   ],
   "metadata": {}
  },
  {
   "cell_type": "markdown",
   "source": [
    "![qft-circuit](assets/qft.png)"
   ],
   "metadata": {}
  },
  {
   "cell_type": "markdown",
   "source": [
    "The basic building block control phase shift gate is defined\n",
    "as"
   ],
   "metadata": {}
  },
  {
   "cell_type": "markdown",
   "source": [
    "$$\n",
    "R(k)=\\begin{bmatrix}\n",
    "1 & 0\\\\\n",
    "0 & \\exp\\left(\\frac{2\\pi i}{2^k}\\right)\n",
    "\\end{bmatrix}\n",
    "$$"
   ],
   "metadata": {}
  },
  {
   "cell_type": "markdown",
   "source": [
    "Let's define block `A` and block `B`, block `A` is actually\n",
    "a control block."
   ],
   "metadata": {}
  },
  {
   "outputs": [],
   "cell_type": "code",
   "source": [
    "A(i, j) = control(i, j=>shift(2π/(1<<(i-j+1))))"
   ],
   "metadata": {},
   "execution_count": null
  },
  {
   "cell_type": "markdown",
   "source": [
    "Once you construct the blockl you can inspect its matrix using `mat`\n",
    "function. Let's construct the circuit in dash box A, and see the matrix of\n",
    "$R_4$ gate."
   ],
   "metadata": {}
  },
  {
   "outputs": [],
   "cell_type": "code",
   "source": [
    "R4 = A(4, 1)"
   ],
   "metadata": {},
   "execution_count": null
  },
  {
   "cell_type": "markdown",
   "source": [
    "If you have read about preparing GHZ state,\n",
    "you probably know that in Yao, we could just leave the number of qubits, and it\n",
    "will be evaluated when possible."
   ],
   "metadata": {}
  },
  {
   "outputs": [],
   "cell_type": "code",
   "source": [
    "R4(5)"
   ],
   "metadata": {},
   "execution_count": null
  },
  {
   "cell_type": "markdown",
   "source": [
    "its matrix will be"
   ],
   "metadata": {}
  },
  {
   "outputs": [],
   "cell_type": "code",
   "source": [
    "mat(R4(5))"
   ],
   "metadata": {},
   "execution_count": null
  },
  {
   "cell_type": "markdown",
   "source": [
    "Then we repeat this control block over\n",
    "and over on different qubits, and put a Hadamard gate\n",
    "to `i`th qubit to construct `i`-th `B` block."
   ],
   "metadata": {}
  },
  {
   "outputs": [],
   "cell_type": "code",
   "source": [
    "B(n, k) = chain(n, j==k ? put(k=>H) : A(j, k) for j in k:n)"
   ],
   "metadata": {},
   "execution_count": null
  },
  {
   "cell_type": "markdown",
   "source": [
    "We need to input the total number of qubits `n` here because we have to iterate\n",
    "through from `k`-th location to the last."
   ],
   "metadata": {}
  },
  {
   "cell_type": "markdown",
   "source": [
    "Now, let's construct the circuit by chaining all the `B` blocks together"
   ],
   "metadata": {}
  },
  {
   "outputs": [],
   "cell_type": "code",
   "source": [
    "qft(n) = chain(B(n, k) for k in 1:n)\n",
    "qft(4)"
   ],
   "metadata": {},
   "execution_count": null
  },
  {
   "cell_type": "markdown",
   "source": [
    "## Wrap QFT to an external block"
   ],
   "metadata": {}
  },
  {
   "cell_type": "markdown",
   "source": [
    "In most cases, `function`s are enough to wrap quantum circuits, like `A`\n",
    "and `B` we defined above, but sometimes, we need to dispatch specialized\n",
    "methods on certain kinds of quantum circuit, or we want to define an external\n",
    "block to export, thus, it's useful to be able to wrap circuit to custom blocks."
   ],
   "metadata": {}
  },
  {
   "cell_type": "markdown",
   "source": [
    "First, we define a new type as subtype of `PrimitiveBlock` since we are not\n",
    "going to use the subblocks of `QFT`, if you need to use its subblocks, it'd\n",
    "be better to define it under `CompositeBlock`."
   ],
   "metadata": {}
  },
  {
   "outputs": [],
   "cell_type": "code",
   "source": [
    "struct QFT <: PrimitiveBlock{2}\n",
    "    n::Int\n",
    "end\n",
    "\n",
    "YaoBlocks.nqudits(q::QFT) = q.n"
   ],
   "metadata": {},
   "execution_count": null
  },
  {
   "cell_type": "markdown",
   "source": [
    "Now, let's define its circuit"
   ],
   "metadata": {}
  },
  {
   "outputs": [],
   "cell_type": "code",
   "source": [
    "circuit(q::QFT) = qft(q.n)"
   ],
   "metadata": {},
   "execution_count": null
  },
  {
   "cell_type": "markdown",
   "source": [
    "And forward `mat` to its circuit's matrix"
   ],
   "metadata": {}
  },
  {
   "outputs": [],
   "cell_type": "code",
   "source": [
    "YaoBlocks.mat(::Type{T}, x::QFT) where T = mat(T, circuit(x))"
   ],
   "metadata": {},
   "execution_count": null
  },
  {
   "cell_type": "markdown",
   "source": [
    "You may notice, it is a little ugly to print `QFT` at the moment,\n",
    "this is because we print the type summary by default, you can define\n",
    "your own printing by overloading `print_block`"
   ],
   "metadata": {}
  },
  {
   "outputs": [],
   "cell_type": "code",
   "source": [
    "YaoBlocks.print_block(io::IO, x::QFT) = print(io, \"QFT($(x.n))\")"
   ],
   "metadata": {},
   "execution_count": null
  },
  {
   "cell_type": "markdown",
   "source": [
    "Since it is possible to use FFT to simulate the results of QFT (like cheating),\n",
    "we could define our custom `apply!` method:"
   ],
   "metadata": {}
  },
  {
   "outputs": [],
   "cell_type": "code",
   "source": [
    "using FFTW, LinearAlgebra\n",
    "\n",
    "function YaoBlocks.apply!(r::ArrayReg, x::QFT)\n",
    "    α = sqrt(length(statevec(r)))\n",
    "    invorder!(r)\n",
    "    lmul!(α, ifft!(statevec(r)))\n",
    "    return r\n",
    "end"
   ],
   "metadata": {},
   "execution_count": null
  },
  {
   "cell_type": "markdown",
   "source": [
    "Now let's check if our `apply!` method is correct:"
   ],
   "metadata": {}
  },
  {
   "outputs": [],
   "cell_type": "code",
   "source": [
    "r = rand_state(5)\n",
    "r1 = r |> copy |> QFT(5)\n",
    "r2 = r |> copy |> circuit(QFT(5))\n",
    "r1 ≈ r2"
   ],
   "metadata": {},
   "execution_count": null
  },
  {
   "cell_type": "markdown",
   "source": [
    "We can get iQFT (inverse QFT) directly by calling `adjoint`"
   ],
   "metadata": {}
  },
  {
   "outputs": [],
   "cell_type": "code",
   "source": [
    "QFT(5)'"
   ],
   "metadata": {},
   "execution_count": null
  },
  {
   "cell_type": "markdown",
   "source": [
    "QFT and iQFT are different from FFT and IFFT in three ways,"
   ],
   "metadata": {}
  },
  {
   "cell_type": "markdown",
   "source": [
    "1. they are different by a factor of $\\sqrt{2^n}$ with $n$ the number of qubits.\n",
    "2. the [bit numbering](https://quantumbfs.github.io/BitBasis.jl/stable/tutorial/#Conventions-1) will exchange after applying QFT or iQFT.\n",
    "3. due to the convention, QFT is more related to IFFT rather than FFT."
   ],
   "metadata": {}
  },
  {
   "cell_type": "markdown",
   "source": [
    "## Phase Estimation"
   ],
   "metadata": {}
  },
  {
   "cell_type": "markdown",
   "source": [
    "Since we have QFT and iQFT blocks we can then use them to\n",
    "realize phase estimation circuit, what we want to realize\n",
    "is the following circuit:"
   ],
   "metadata": {}
  },
  {
   "cell_type": "markdown",
   "source": [
    "![phase estimation](assets/phaseest.png)"
   ],
   "metadata": {}
  },
  {
   "cell_type": "markdown",
   "source": [
    "First we call Hadamard gates repeatly on first `n` qubits."
   ],
   "metadata": {}
  },
  {
   "outputs": [],
   "cell_type": "code",
   "source": [
    "Hadamards(n) = repeat(H, 1:n)"
   ],
   "metadata": {},
   "execution_count": null
  },
  {
   "cell_type": "markdown",
   "source": [
    "Then in dashed box `B`, we have controlled unitaries:"
   ],
   "metadata": {}
  },
  {
   "outputs": [],
   "cell_type": "code",
   "source": [
    "ControlU(n, m, U) = chain(n+m, control(k, n+1:n+m=>matblock(U^(2^(k-1)))) for k in 1:n)"
   ],
   "metadata": {},
   "execution_count": null
  },
  {
   "cell_type": "markdown",
   "source": [
    "each of them is a `U` of power $2^{(k-1)}$."
   ],
   "metadata": {}
  },
  {
   "cell_type": "markdown",
   "source": [
    "Since we will only apply the qft and Hadamard on first `n` qubits,\n",
    "we could use `Subroutine`, which creates a context of\n",
    "a sub-scope of the qubits."
   ],
   "metadata": {}
  },
  {
   "outputs": [],
   "cell_type": "code",
   "source": [
    "PE(n, m, U) =\n",
    "    chain(n+m, # total number of the qubits\n",
    "        subroutine(Hadamards(n), 1:n), # apply H in local scope\n",
    "        ControlU(n, m, U),\n",
    "        subroutine(QFT(n)', 1:n))"
   ],
   "metadata": {},
   "execution_count": null
  },
  {
   "cell_type": "markdown",
   "source": [
    "we use the first `n` qubits as the output space to store phase $ϕ$, and the\n",
    "other `m` qubits as the input state which corresponds to an eigenvector of\n",
    "oracle matrix `U`."
   ],
   "metadata": {}
  },
  {
   "cell_type": "markdown",
   "source": [
    "The subroutine here uses `focus!` and `relax!` to manage\n",
    "a local scope of quantum circuit, and only activate the first `n` qubits while applying\n",
    "the block inside the subroutine context, and the scope will be `relax!`ed\n",
    "back, after the context. This is equivalent to manually `focus!`\n",
    "then `relax!`"
   ],
   "metadata": {}
  },
  {
   "cell_type": "markdown",
   "source": [
    "fullly activated"
   ],
   "metadata": {}
  },
  {
   "outputs": [],
   "cell_type": "code",
   "source": [
    "r = rand_state(5)"
   ],
   "metadata": {},
   "execution_count": null
  },
  {
   "cell_type": "markdown",
   "source": [
    "first 3 qubits activated"
   ],
   "metadata": {}
  },
  {
   "outputs": [],
   "cell_type": "code",
   "source": [
    "focus!(r, 1:3)"
   ],
   "metadata": {},
   "execution_count": null
  },
  {
   "cell_type": "markdown",
   "source": [
    "relax back to the original"
   ],
   "metadata": {}
  },
  {
   "outputs": [],
   "cell_type": "code",
   "source": [
    "relax!(r, 1:3)"
   ],
   "metadata": {},
   "execution_count": null
  },
  {
   "cell_type": "markdown",
   "source": [
    "In this way, we will be able to apply small operator directly\n",
    "on the subset of the qubits."
   ],
   "metadata": {}
  },
  {
   "cell_type": "markdown",
   "source": [
    "Details about the algorithm can be found here:\n",
    "[Quantum Phase Estimation Algorithm](https://en.wikipedia.org/wiki/Quantum_phase_estimation_algorithm)"
   ],
   "metadata": {}
  },
  {
   "cell_type": "markdown",
   "source": [
    "Now let's check the results of our phase estimation."
   ],
   "metadata": {}
  },
  {
   "cell_type": "markdown",
   "source": [
    "First we need to set up a unitary with known phase, we set the phase to be\n",
    "0.75, which is `0.75 * 2^3 == 6 == 0b110` ."
   ],
   "metadata": {}
  },
  {
   "outputs": [],
   "cell_type": "code",
   "source": [
    "N, M = 3, 5\n",
    "P = eigen(rand_unitary(1<<M)).vectors\n",
    "θ = Int(0b110) / 1<<N\n",
    "phases = rand(1<<M)\n",
    "phases[0b010+1] = θ\n",
    "U = P * Diagonal(exp.(2π * im * phases)) * P'"
   ],
   "metadata": {},
   "execution_count": null
  },
  {
   "cell_type": "markdown",
   "source": [
    "and then generate the state $ψ$"
   ],
   "metadata": {}
  },
  {
   "outputs": [],
   "cell_type": "code",
   "source": [
    "psi = P[:, 3]"
   ],
   "metadata": {},
   "execution_count": null
  },
  {
   "cell_type": "markdown",
   "source": [
    "In the phase estimation process, we will feed the state to circuit and measure\n",
    "the first `n` qubits processed by iQFT."
   ],
   "metadata": {}
  },
  {
   "outputs": [],
   "cell_type": "code",
   "source": [
    "r = join(ArrayReg(psi), zero_state(N))\n",
    "r |> PE(N, M, U)"
   ],
   "metadata": {},
   "execution_count": null
  },
  {
   "cell_type": "markdown",
   "source": [
    "Since our phase can be represented by 3 qubits precisely, we only need to measure once"
   ],
   "metadata": {}
  },
  {
   "outputs": [],
   "cell_type": "code",
   "source": [
    "results = measure(r, 1:N; nshots=1)"
   ],
   "metadata": {},
   "execution_count": null
  },
  {
   "cell_type": "markdown",
   "source": [
    "Recall that our QFT's bit numbering is reversed, let's reverse it back"
   ],
   "metadata": {}
  },
  {
   "outputs": [],
   "cell_type": "code",
   "source": [
    "using BitBasis\n",
    "estimated_phase = bfloat(results[]; nbits=N)"
   ],
   "metadata": {},
   "execution_count": null
  },
  {
   "cell_type": "markdown",
   "source": [
    "the phase is exactly `0.75`!"
   ],
   "metadata": {}
  },
  {
   "cell_type": "markdown",
   "source": [
    "---\n",
    "\n",
    "*This notebook was generated using [Literate.jl](https://github.com/fredrikekre/Literate.jl).*"
   ],
   "metadata": {}
  }
 ],
 "nbformat_minor": 3,
 "metadata": {
  "language_info": {
   "file_extension": ".jl",
   "mimetype": "application/julia",
   "name": "julia",
   "version": "1.7.3"
  },
  "kernelspec": {
   "name": "julia-1.7",
   "display_name": "Julia 1.7.3",
   "language": "julia"
  }
 },
 "nbformat": 4
}
