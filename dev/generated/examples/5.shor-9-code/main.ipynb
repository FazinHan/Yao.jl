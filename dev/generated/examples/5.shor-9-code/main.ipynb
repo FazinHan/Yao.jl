{
 "cells": [
  {
   "cell_type": "markdown",
   "source": [
    "# Shor's 9 qubit code"
   ],
   "metadata": {}
  },
  {
   "cell_type": "markdown",
   "source": [
    "The well-known Shor's 9 qubit code can correct any single Pauli error, but it can also correct some other\n",
    "kinds of errors. Its circuit is shown as below\n",
    "![shor-9-circuit](assets/shor9circuit.png)\n",
    "which can be constructed by the following code"
   ],
   "metadata": {}
  },
  {
   "outputs": [],
   "cell_type": "code",
   "source": [
    "using Yao\n",
    "using SymEngine\n",
    "\n",
    "shor(E) = chain(9,\n",
    "    # encode circuit\n",
    "    cnot(1, 4), cnot(1, 7),\n",
    "    put(1=>H), put(4=>H), put(7=>H),\n",
    "    cnot(1,2), cnot(1,3), cnot(4,5), cnot(4,6), cnot(7,8), cnot(7,9),\n",
    "    E, # the error\n",
    "    # decode circuit\n",
    "    cnot(1,2), cnot(1,3), cnot((2, 3), 1),\n",
    "    cnot(4,5), cnot(4,6), cnot((5, 6), 4),\n",
    "    cnot(7,8), cnot(7,9), cnot((8, 9), 7),\n",
    "    put(1=>H), put(4=>H), put(7=>H), cnot(1, 4), cnot(1, 7), cnot((4, 7), 1)\n",
    ")"
   ],
   "metadata": {},
   "execution_count": null
  },
  {
   "cell_type": "markdown",
   "source": [
    "Now we can check whether it can correct a given error by doing symbolic computation\n",
    "on an arbitrary 1-qubit pure quantum state $α|0⟩ + β|1⟩$ and a specific weight-9 error."
   ],
   "metadata": {}
  },
  {
   "outputs": [],
   "cell_type": "code",
   "source": [
    "@vars α β\n",
    "s = α * ket\"0\" + β * ket\"1\" |> append_qudits!(8)\n",
    "E = kron(1=>X, 2=>Z, 3=>Z, 4=>X, 5=>Z, 6=>Z, 7=>X, 8=>Z, 9=>Z);\n",
    "s |> shor(E) |> expand"
   ],
   "metadata": {},
   "execution_count": null
  },
  {
   "cell_type": "markdown",
   "source": [
    "---\n",
    "\n",
    "*This notebook was generated using [Literate.jl](https://github.com/fredrikekre/Literate.jl).*"
   ],
   "metadata": {}
  }
 ],
 "nbformat_minor": 3,
 "metadata": {
  "language_info": {
   "file_extension": ".jl",
   "mimetype": "application/julia",
   "name": "julia",
   "version": "1.8.0"
  },
  "kernelspec": {
   "name": "julia-1.8",
   "display_name": "Julia 1.8.0",
   "language": "julia"
  }
 },
 "nbformat": 4
}
