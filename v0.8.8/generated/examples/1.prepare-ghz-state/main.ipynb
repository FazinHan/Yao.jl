{
 "cells": [
  {
   "cell_type": "markdown",
   "source": [
    "# Prepare Greenberger–Horne–Zeilinger state with Quantum Circuit"
   ],
   "metadata": {}
  },
  {
   "cell_type": "markdown",
   "source": [
    "First, you have to use this package in Julia."
   ],
   "metadata": {}
  },
  {
   "outputs": [],
   "cell_type": "code",
   "source": [
    "using Yao"
   ],
   "metadata": {},
   "execution_count": null
  },
  {
   "cell_type": "markdown",
   "source": [
    "Now, we just define the circuit according to the circuit image below:\n",
    "![ghz](assets/ghz4.png)"
   ],
   "metadata": {}
  },
  {
   "outputs": [],
   "cell_type": "code",
   "source": [
    "circuit = chain(\n",
    "    4,\n",
    "    put(1=>X),\n",
    "    repeat(H, 2:4),\n",
    "    control(2, 1=>X),\n",
    "    control(4, 3=>X),\n",
    "    control(3, 1=>X),\n",
    "    control(4, 3=>X),\n",
    "    repeat(H, 1:4),\n",
    ")"
   ],
   "metadata": {},
   "execution_count": null
  },
  {
   "cell_type": "markdown",
   "source": [
    "Let me explain what happens here."
   ],
   "metadata": {}
  },
  {
   "cell_type": "markdown",
   "source": [
    "## Put single qubit gate X to location 1\n",
    "we have an `X` gate applied to the first qubit.\n",
    "We need to tell `Yao` to put this gate on the first qubit by"
   ],
   "metadata": {}
  },
  {
   "outputs": [],
   "cell_type": "code",
   "source": [
    "put(4, 1=>X)"
   ],
   "metadata": {},
   "execution_count": null
  },
  {
   "cell_type": "markdown",
   "source": [
    "We use Julia's `Pair` to denote the gate and its location in the circuit,\n",
    "for two-qubit gate, you could also use a tuple of locations:"
   ],
   "metadata": {}
  },
  {
   "outputs": [],
   "cell_type": "code",
   "source": [
    "put(4, (1, 2)=>swap(2, 1, 2))"
   ],
   "metadata": {},
   "execution_count": null
  },
  {
   "cell_type": "markdown",
   "source": [
    "But, wait, why there's no `4` in the definition above? This is because\n",
    "all the functions in `Yao` that requires to input the number of qubits as its\n",
    "first arguement could be lazy (curried), and let other constructors to infer the total\n",
    "number of qubits later, e.g"
   ],
   "metadata": {}
  },
  {
   "outputs": [],
   "cell_type": "code",
   "source": [
    "put(1=>X)"
   ],
   "metadata": {},
   "execution_count": null
  },
  {
   "cell_type": "markdown",
   "source": [
    "which will return a lambda that ask for a single arguement `n`."
   ],
   "metadata": {}
  },
  {
   "outputs": [],
   "cell_type": "code",
   "source": [
    "put(1=>X)(4)"
   ],
   "metadata": {},
   "execution_count": null
  },
  {
   "cell_type": "markdown",
   "source": [
    "## Apply the same gate on different locations"
   ],
   "metadata": {}
  },
  {
   "cell_type": "markdown",
   "source": [
    "next we should put Hadmard gates on all locations except the 1st qubits."
   ],
   "metadata": {}
  },
  {
   "cell_type": "markdown",
   "source": [
    "We provide `repeat` to apply the same block repeatly, repeat can take an\n",
    "iterator of desired locations, and like `put`, we can also leave the total number\n",
    "of qubits there."
   ],
   "metadata": {}
  },
  {
   "outputs": [],
   "cell_type": "code",
   "source": [
    "repeat(H, 2:4)"
   ],
   "metadata": {},
   "execution_count": null
  },
  {
   "cell_type": "markdown",
   "source": [
    "## Define control gates"
   ],
   "metadata": {}
  },
  {
   "cell_type": "markdown",
   "source": [
    "In Yao, we could define controlled gates by feeding a gate to `control`"
   ],
   "metadata": {}
  },
  {
   "outputs": [],
   "cell_type": "code",
   "source": [
    "control(4, 2, 1=>X)"
   ],
   "metadata": {},
   "execution_count": null
  },
  {
   "cell_type": "markdown",
   "source": [
    "Like many others, you could leave the number of total qubits there, and infer it\n",
    "later."
   ],
   "metadata": {}
  },
  {
   "outputs": [],
   "cell_type": "code",
   "source": [
    "control(2, 1=>X)"
   ],
   "metadata": {},
   "execution_count": null
  },
  {
   "cell_type": "markdown",
   "source": [
    "## Composite each part together"
   ],
   "metadata": {}
  },
  {
   "cell_type": "markdown",
   "source": [
    "This will create a `ControlBlock`, the concept of block in Yao basically\n",
    "just means quantum operators, since the quantum circuit itself is a quantum operator,\n",
    "we could create a quantum circuit by composite each part of."
   ],
   "metadata": {}
  },
  {
   "cell_type": "markdown",
   "source": [
    "Here, we use `chain` to chain each part together, a chain of quantum operators\n",
    "means to apply each operators one by one in the chain. This will create a `ChainBlock`."
   ],
   "metadata": {}
  },
  {
   "outputs": [],
   "cell_type": "code",
   "source": [
    "circuit = chain(\n",
    "    4,\n",
    "    put(1=>X),\n",
    "    repeat(H, 2:4),\n",
    "    control(2, 1=>X),\n",
    "    control(4, 3=>X),\n",
    "    control(3, 1=>X),\n",
    "    control(4, 3=>X),\n",
    "    repeat(H, 1:4),\n",
    ")"
   ],
   "metadata": {},
   "execution_count": null
  },
  {
   "cell_type": "markdown",
   "source": [
    "You can check the type of it with `typeof`"
   ],
   "metadata": {}
  },
  {
   "outputs": [],
   "cell_type": "code",
   "source": [
    "typeof(circuit)"
   ],
   "metadata": {},
   "execution_count": null
  },
  {
   "cell_type": "markdown",
   "source": [
    "## Construct GHZ state from 00...00"
   ],
   "metadata": {}
  },
  {
   "cell_type": "markdown",
   "source": [
    "For simulation, we provide a builtin register type called `ArrayReg`,\n",
    "we will use the simulated register in this example."
   ],
   "metadata": {}
  },
  {
   "cell_type": "markdown",
   "source": [
    "First, let's create ``|00⋯00⟩``, you can create it with `zero_state`"
   ],
   "metadata": {}
  },
  {
   "outputs": [],
   "cell_type": "code",
   "source": [
    "zero_state(4)"
   ],
   "metadata": {},
   "execution_count": null
  },
  {
   "cell_type": "markdown",
   "source": [
    "Or we also provide bit string literals to create arbitrary eigen state"
   ],
   "metadata": {}
  },
  {
   "outputs": [],
   "cell_type": "code",
   "source": [
    "ArrayReg(bit\"0000\")"
   ],
   "metadata": {},
   "execution_count": null
  },
  {
   "cell_type": "markdown",
   "source": [
    "They will both create a register with Julia's builtin `Array` as storage."
   ],
   "metadata": {}
  },
  {
   "cell_type": "markdown",
   "source": [
    "## Feed Registers to Circuits"
   ],
   "metadata": {}
  },
  {
   "cell_type": "markdown",
   "source": [
    "Circuits can be applied to registers with `apply!`"
   ],
   "metadata": {}
  },
  {
   "outputs": [],
   "cell_type": "code",
   "source": [
    "apply!(zero_state(4), circuit)"
   ],
   "metadata": {},
   "execution_count": null
  },
  {
   "cell_type": "markdown",
   "source": [
    "or you can use pipe operator `|>`, when you want to chain several operations\n",
    "together, here we measure the state right after the circuit for `1000` times"
   ],
   "metadata": {}
  },
  {
   "outputs": [],
   "cell_type": "code",
   "source": [
    "results = zero_state(4) |> circuit |> r->measure(r, nshots=1000)\n",
    "\n",
    "using StatsBase, Plots\n",
    "\n",
    "hist = fit(Histogram, Int.(results), 0:16)\n",
    "bar(hist.edges[1] .- 0.5, hist.weights, legend=:none)"
   ],
   "metadata": {},
   "execution_count": null
  },
  {
   "cell_type": "markdown",
   "source": [
    "GHZ state will collapse to ``|0000⟩`` or ``|1111⟩``."
   ],
   "metadata": {}
  },
  {
   "cell_type": "markdown",
   "source": [
    "---\n",
    "\n",
    "*This notebook was generated using [Literate.jl](https://github.com/fredrikekre/Literate.jl).*"
   ],
   "metadata": {}
  }
 ],
 "nbformat_minor": 3,
 "metadata": {
  "language_info": {
   "file_extension": ".jl",
   "mimetype": "application/julia",
   "name": "julia",
   "version": "1.7.0"
  },
  "kernelspec": {
   "name": "julia-1.7",
   "display_name": "Julia 1.7.0",
   "language": "julia"
  }
 },
 "nbformat": 4
}
